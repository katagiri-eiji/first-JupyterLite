{
  "metadata": {
    "language_info": {
      "codemirror_mode": {
        "name": "python",
        "version": 3
      },
      "file_extension": ".py",
      "mimetype": "text/x-python",
      "name": "python",
      "nbconvert_exporter": "python",
      "pygments_lexer": "ipython3",
      "version": "3.8"
    },
    "kernelspec": {
      "name": "python",
      "display_name": "Python (Pyodide)",
      "language": "python"
    }
  },
  "nbformat_minor": 4,
  "nbformat": 4,
  "cells": [
    {
      "cell_type": "code",
      "source": "import sympy\nimport math",
      "metadata": {
        "trusted": true
      },
      "execution_count": 1,
      "outputs": []
    },
    {
      "cell_type": "code",
      "source": "# Σtの位置と姿勢行列を定義\nxt, yt, zt = sympy.symbols('x_t y_t z_t')\nr11, r12, r13 = sympy.symbols('r11 r12 r13')\nr21, r22, r23 = sympy.symbols('r21 r22 r23')\nr31, r32, r33 = sympy.symbols('r31 r32 r33')\n# U0t: Σ0からΣtへの目標位置姿勢の同次変換行列(逆運動学の入力）\nU0t = sympy.Matrix([[r11, r12, r13, xt], [r21, r22, r23, yt], [r31, r32, r33, zt], [0, 0, 0, 1]])\nU0t",
      "metadata": {
        "trusted": true
      },
      "execution_count": 2,
      "outputs": [
        {
          "execution_count": 2,
          "output_type": "execute_result",
          "data": {
            "text/plain": "Matrix([\n[r11, r12, r13, x_t],\n[r21, r22, r23, y_t],\n[r31, r32, r33, z_t],\n[  0,   0,   0,   1]])",
            "text/latex": "$\\displaystyle \\left[\\begin{matrix}r_{11} & r_{12} & r_{13} & x_{t}\\\\r_{21} & r_{22} & r_{23} & y_{t}\\\\r_{31} & r_{32} & r_{33} & z_{t}\\\\0 & 0 & 0 & 1\\end{matrix}\\right]$"
          },
          "metadata": {}
        }
      ]
    },
    {
      "cell_type": "code",
      "source": "# 順運動学のための関節角度の定義\ntheta1, theta2, theta3, theta4, theta5, theta6 =sympy.symbols('theta1 theta2 theta3 theta4 theta5 theta6')\n# 短く書くためにSin,Cosも定義しておく\nc1, c2, c3, c4, c5, c6 = sympy.cos(theta1), sympy.cos(theta2), sympy.cos(theta3), sympy.cos(theta4), sympy.cos(theta5), sympy.cos(theta6)\ns1, s2, s3, s4, s5, s6 = sympy.sin(theta1), sympy.sin(theta2), sympy.sin(theta3), sympy.sin(theta4), sympy.sin(theta5), sympy.sin(theta6)\n# d1,d2,d3,d4,d5: 各リンク長のパラメータ（ロボットの自由度配置の図を参照）\nd1, d2, d3 =sympy.symbols('d1 d2 d3')\na = sympy.symbols('a')",
      "metadata": {
        "trusted": true
      },
      "execution_count": 3,
      "outputs": []
    },
    {
      "cell_type": "code",
      "source": "# 順運動学の計算のための各関節の同時変換行列\nT01 = sympy.Matrix([[c1, -s1, 0, 0], [s1, c1, 0, 0], [0, 0, 1, d1], [0, 0, 0, 1]])\nT12 = sympy.Matrix([[c2, -s2, 0, 0], [0, 0, 1, 0], [-s2, -c2, 0, 0], [0, 0, 0, 1]])\nT23 = sympy.Matrix([[c3, -s3, 0, 0], [0, 0, -1, -d2], [s3, c3, 0, 0], [0, 0, 0, 1]])\n\nT34 = sympy.Matrix([[c4, -s4, 0, a], [0, 0, -1, 0], [s4, c4, 0, 0], [0, 0, 0, 1]])\n\nT45 = sympy.Matrix([[c5, -s5, 0, -a], [0, 0, 1, d3], [-s5, -c5, 0, 0], [0, 0, 0, 1]])\n\n#T56 = sympy.Matrix([[c6, -s6, 0, 0], [0, 0, -1, 0], [s6, c6, 0, 0], [0, 0, 0, 1]])\nT6t = sympy.Matrix([[1, 0, 0, 0], [0, 1, 0, 0], [0, 0, 1, 0], [0, 0, 0, 1]])\n# Σ0からΣtへの順運動学\nT0t=T01*T12*T23*T34*T45*T6t\nT0t",
      "metadata": {
        "trusted": true
      },
      "execution_count": 4,
      "outputs": [
        {
          "execution_count": 4,
          "output_type": "execute_result",
          "data": {
            "text/plain": "Matrix([\n[((-sin(theta1)*sin(theta3) + cos(theta1)*cos(theta2)*cos(theta3))*cos(theta4) + sin(theta2)*sin(theta4)*cos(theta1))*cos(theta5) - (sin(theta1)*cos(theta3) + sin(theta3)*cos(theta1)*cos(theta2))*sin(theta5), -((-sin(theta1)*sin(theta3) + cos(theta1)*cos(theta2)*cos(theta3))*cos(theta4) + sin(theta2)*sin(theta4)*cos(theta1))*sin(theta5) - (sin(theta1)*cos(theta3) + sin(theta3)*cos(theta1)*cos(theta2))*cos(theta5), -(-sin(theta1)*sin(theta3) + cos(theta1)*cos(theta2)*cos(theta3))*sin(theta4) + sin(theta2)*cos(theta1)*cos(theta4), -a*((-sin(theta1)*sin(theta3) + cos(theta1)*cos(theta2)*cos(theta3))*cos(theta4) + sin(theta2)*sin(theta4)*cos(theta1)) + a*(-sin(theta1)*sin(theta3) + cos(theta1)*cos(theta2)*cos(theta3)) + d2*sin(theta2)*cos(theta1) + d3*(-(-sin(theta1)*sin(theta3) + cos(theta1)*cos(theta2)*cos(theta3))*sin(theta4) + sin(theta2)*cos(theta1)*cos(theta4))],\n[ ((sin(theta1)*cos(theta2)*cos(theta3) + sin(theta3)*cos(theta1))*cos(theta4) + sin(theta1)*sin(theta2)*sin(theta4))*cos(theta5) - (sin(theta1)*sin(theta3)*cos(theta2) - cos(theta1)*cos(theta3))*sin(theta5),  -((sin(theta1)*cos(theta2)*cos(theta3) + sin(theta3)*cos(theta1))*cos(theta4) + sin(theta1)*sin(theta2)*sin(theta4))*sin(theta5) - (sin(theta1)*sin(theta3)*cos(theta2) - cos(theta1)*cos(theta3))*cos(theta5),  -(sin(theta1)*cos(theta2)*cos(theta3) + sin(theta3)*cos(theta1))*sin(theta4) + sin(theta1)*sin(theta2)*cos(theta4),    -a*((sin(theta1)*cos(theta2)*cos(theta3) + sin(theta3)*cos(theta1))*cos(theta4) + sin(theta1)*sin(theta2)*sin(theta4)) + a*(sin(theta1)*cos(theta2)*cos(theta3) + sin(theta3)*cos(theta1)) + d2*sin(theta1)*sin(theta2) + d3*(-(sin(theta1)*cos(theta2)*cos(theta3) + sin(theta3)*cos(theta1))*sin(theta4) + sin(theta1)*sin(theta2)*cos(theta4))],\n[                                                                                            (-sin(theta2)*cos(theta3)*cos(theta4) + sin(theta4)*cos(theta2))*cos(theta5) + sin(theta2)*sin(theta3)*sin(theta5),                                                                                             -(-sin(theta2)*cos(theta3)*cos(theta4) + sin(theta4)*cos(theta2))*sin(theta5) + sin(theta2)*sin(theta3)*cos(theta5),                                                       sin(theta2)*sin(theta4)*cos(theta3) + cos(theta2)*cos(theta4),                                                                                                                                                           -a*(-sin(theta2)*cos(theta3)*cos(theta4) + sin(theta4)*cos(theta2)) - a*sin(theta2)*cos(theta3) + d1 + d2*cos(theta2) + d3*(sin(theta2)*sin(theta4)*cos(theta3) + cos(theta2)*cos(theta4))],\n[                                                                                                                                                                                                             0,                                                                                                                                                                                                               0,                                                                                                                   0,                                                                                                                                                                                                                                                                                                                                                    1]])",
            "text/latex": "$\\displaystyle \\left[\\begin{matrix}\\left(\\left(- \\sin{\\left(\\theta_{1} \\right)} \\sin{\\left(\\theta_{3} \\right)} + \\cos{\\left(\\theta_{1} \\right)} \\cos{\\left(\\theta_{2} \\right)} \\cos{\\left(\\theta_{3} \\right)}\\right) \\cos{\\left(\\theta_{4} \\right)} + \\sin{\\left(\\theta_{2} \\right)} \\sin{\\left(\\theta_{4} \\right)} \\cos{\\left(\\theta_{1} \\right)}\\right) \\cos{\\left(\\theta_{5} \\right)} - \\left(\\sin{\\left(\\theta_{1} \\right)} \\cos{\\left(\\theta_{3} \\right)} + \\sin{\\left(\\theta_{3} \\right)} \\cos{\\left(\\theta_{1} \\right)} \\cos{\\left(\\theta_{2} \\right)}\\right) \\sin{\\left(\\theta_{5} \\right)} & - \\left(\\left(- \\sin{\\left(\\theta_{1} \\right)} \\sin{\\left(\\theta_{3} \\right)} + \\cos{\\left(\\theta_{1} \\right)} \\cos{\\left(\\theta_{2} \\right)} \\cos{\\left(\\theta_{3} \\right)}\\right) \\cos{\\left(\\theta_{4} \\right)} + \\sin{\\left(\\theta_{2} \\right)} \\sin{\\left(\\theta_{4} \\right)} \\cos{\\left(\\theta_{1} \\right)}\\right) \\sin{\\left(\\theta_{5} \\right)} - \\left(\\sin{\\left(\\theta_{1} \\right)} \\cos{\\left(\\theta_{3} \\right)} + \\sin{\\left(\\theta_{3} \\right)} \\cos{\\left(\\theta_{1} \\right)} \\cos{\\left(\\theta_{2} \\right)}\\right) \\cos{\\left(\\theta_{5} \\right)} & - \\left(- \\sin{\\left(\\theta_{1} \\right)} \\sin{\\left(\\theta_{3} \\right)} + \\cos{\\left(\\theta_{1} \\right)} \\cos{\\left(\\theta_{2} \\right)} \\cos{\\left(\\theta_{3} \\right)}\\right) \\sin{\\left(\\theta_{4} \\right)} + \\sin{\\left(\\theta_{2} \\right)} \\cos{\\left(\\theta_{1} \\right)} \\cos{\\left(\\theta_{4} \\right)} & - a \\left(\\left(- \\sin{\\left(\\theta_{1} \\right)} \\sin{\\left(\\theta_{3} \\right)} + \\cos{\\left(\\theta_{1} \\right)} \\cos{\\left(\\theta_{2} \\right)} \\cos{\\left(\\theta_{3} \\right)}\\right) \\cos{\\left(\\theta_{4} \\right)} + \\sin{\\left(\\theta_{2} \\right)} \\sin{\\left(\\theta_{4} \\right)} \\cos{\\left(\\theta_{1} \\right)}\\right) + a \\left(- \\sin{\\left(\\theta_{1} \\right)} \\sin{\\left(\\theta_{3} \\right)} + \\cos{\\left(\\theta_{1} \\right)} \\cos{\\left(\\theta_{2} \\right)} \\cos{\\left(\\theta_{3} \\right)}\\right) + d_{2} \\sin{\\left(\\theta_{2} \\right)} \\cos{\\left(\\theta_{1} \\right)} + d_{3} \\left(- \\left(- \\sin{\\left(\\theta_{1} \\right)} \\sin{\\left(\\theta_{3} \\right)} + \\cos{\\left(\\theta_{1} \\right)} \\cos{\\left(\\theta_{2} \\right)} \\cos{\\left(\\theta_{3} \\right)}\\right) \\sin{\\left(\\theta_{4} \\right)} + \\sin{\\left(\\theta_{2} \\right)} \\cos{\\left(\\theta_{1} \\right)} \\cos{\\left(\\theta_{4} \\right)}\\right)\\\\\\left(\\left(\\sin{\\left(\\theta_{1} \\right)} \\cos{\\left(\\theta_{2} \\right)} \\cos{\\left(\\theta_{3} \\right)} + \\sin{\\left(\\theta_{3} \\right)} \\cos{\\left(\\theta_{1} \\right)}\\right) \\cos{\\left(\\theta_{4} \\right)} + \\sin{\\left(\\theta_{1} \\right)} \\sin{\\left(\\theta_{2} \\right)} \\sin{\\left(\\theta_{4} \\right)}\\right) \\cos{\\left(\\theta_{5} \\right)} - \\left(\\sin{\\left(\\theta_{1} \\right)} \\sin{\\left(\\theta_{3} \\right)} \\cos{\\left(\\theta_{2} \\right)} - \\cos{\\left(\\theta_{1} \\right)} \\cos{\\left(\\theta_{3} \\right)}\\right) \\sin{\\left(\\theta_{5} \\right)} & - \\left(\\left(\\sin{\\left(\\theta_{1} \\right)} \\cos{\\left(\\theta_{2} \\right)} \\cos{\\left(\\theta_{3} \\right)} + \\sin{\\left(\\theta_{3} \\right)} \\cos{\\left(\\theta_{1} \\right)}\\right) \\cos{\\left(\\theta_{4} \\right)} + \\sin{\\left(\\theta_{1} \\right)} \\sin{\\left(\\theta_{2} \\right)} \\sin{\\left(\\theta_{4} \\right)}\\right) \\sin{\\left(\\theta_{5} \\right)} - \\left(\\sin{\\left(\\theta_{1} \\right)} \\sin{\\left(\\theta_{3} \\right)} \\cos{\\left(\\theta_{2} \\right)} - \\cos{\\left(\\theta_{1} \\right)} \\cos{\\left(\\theta_{3} \\right)}\\right) \\cos{\\left(\\theta_{5} \\right)} & - \\left(\\sin{\\left(\\theta_{1} \\right)} \\cos{\\left(\\theta_{2} \\right)} \\cos{\\left(\\theta_{3} \\right)} + \\sin{\\left(\\theta_{3} \\right)} \\cos{\\left(\\theta_{1} \\right)}\\right) \\sin{\\left(\\theta_{4} \\right)} + \\sin{\\left(\\theta_{1} \\right)} \\sin{\\left(\\theta_{2} \\right)} \\cos{\\left(\\theta_{4} \\right)} & - a \\left(\\left(\\sin{\\left(\\theta_{1} \\right)} \\cos{\\left(\\theta_{2} \\right)} \\cos{\\left(\\theta_{3} \\right)} + \\sin{\\left(\\theta_{3} \\right)} \\cos{\\left(\\theta_{1} \\right)}\\right) \\cos{\\left(\\theta_{4} \\right)} + \\sin{\\left(\\theta_{1} \\right)} \\sin{\\left(\\theta_{2} \\right)} \\sin{\\left(\\theta_{4} \\right)}\\right) + a \\left(\\sin{\\left(\\theta_{1} \\right)} \\cos{\\left(\\theta_{2} \\right)} \\cos{\\left(\\theta_{3} \\right)} + \\sin{\\left(\\theta_{3} \\right)} \\cos{\\left(\\theta_{1} \\right)}\\right) + d_{2} \\sin{\\left(\\theta_{1} \\right)} \\sin{\\left(\\theta_{2} \\right)} + d_{3} \\left(- \\left(\\sin{\\left(\\theta_{1} \\right)} \\cos{\\left(\\theta_{2} \\right)} \\cos{\\left(\\theta_{3} \\right)} + \\sin{\\left(\\theta_{3} \\right)} \\cos{\\left(\\theta_{1} \\right)}\\right) \\sin{\\left(\\theta_{4} \\right)} + \\sin{\\left(\\theta_{1} \\right)} \\sin{\\left(\\theta_{2} \\right)} \\cos{\\left(\\theta_{4} \\right)}\\right)\\\\\\left(- \\sin{\\left(\\theta_{2} \\right)} \\cos{\\left(\\theta_{3} \\right)} \\cos{\\left(\\theta_{4} \\right)} + \\sin{\\left(\\theta_{4} \\right)} \\cos{\\left(\\theta_{2} \\right)}\\right) \\cos{\\left(\\theta_{5} \\right)} + \\sin{\\left(\\theta_{2} \\right)} \\sin{\\left(\\theta_{3} \\right)} \\sin{\\left(\\theta_{5} \\right)} & - \\left(- \\sin{\\left(\\theta_{2} \\right)} \\cos{\\left(\\theta_{3} \\right)} \\cos{\\left(\\theta_{4} \\right)} + \\sin{\\left(\\theta_{4} \\right)} \\cos{\\left(\\theta_{2} \\right)}\\right) \\sin{\\left(\\theta_{5} \\right)} + \\sin{\\left(\\theta_{2} \\right)} \\sin{\\left(\\theta_{3} \\right)} \\cos{\\left(\\theta_{5} \\right)} & \\sin{\\left(\\theta_{2} \\right)} \\sin{\\left(\\theta_{4} \\right)} \\cos{\\left(\\theta_{3} \\right)} + \\cos{\\left(\\theta_{2} \\right)} \\cos{\\left(\\theta_{4} \\right)} & - a \\left(- \\sin{\\left(\\theta_{2} \\right)} \\cos{\\left(\\theta_{3} \\right)} \\cos{\\left(\\theta_{4} \\right)} + \\sin{\\left(\\theta_{4} \\right)} \\cos{\\left(\\theta_{2} \\right)}\\right) - a \\sin{\\left(\\theta_{2} \\right)} \\cos{\\left(\\theta_{3} \\right)} + d_{1} + d_{2} \\cos{\\left(\\theta_{2} \\right)} + d_{3} \\left(\\sin{\\left(\\theta_{2} \\right)} \\sin{\\left(\\theta_{4} \\right)} \\cos{\\left(\\theta_{3} \\right)} + \\cos{\\left(\\theta_{2} \\right)} \\cos{\\left(\\theta_{4} \\right)}\\right)\\\\0 & 0 & 0 & 1\\end{matrix}\\right]$"
          },
          "metadata": {}
        }
      ]
    },
    {
      "cell_type": "code",
      "source": "# pt: 順運動学から計算したΣtの位置（Panda初期姿勢）\npt = sympy.Matrix([T0t[0,3], T0t[1,3], T0t[2,3]])\n#angle = 0.3\n# Pandaのリンクパラメータを設定\nparam = [(theta1, 1.5386),(theta2, -0.7350002),(theta3, 6.98e-09), (theta4, -2.205001), (theta5, -6.20E-09),\n         (d1, 0.333), (d2, 0.316), (d3, 0.384), (a, 0.0825)]\n# ROSのURDFから計算した順運動学と比較して、正しいことを確認する\ncheck_tool = T0t.subs(param)\nprint('s1..5=', s1.subs(param), s2.subs(param), s3.subs(param), s4.subs(param), s5.subs(param))\nprint('c1..5=', c1.subs(param), c2.subs(param), c3.subs(param), c4.subs(param), c5.subs(param))\n# このcheck_toolは後ほど逆運動学の正しいことの確認にも使う\n# X=0.223070384, Y=0.743498401, Z=0.007166766 (Unity) ===> Y, Z, X\n# X=0.007166766, Y=0.223070384, Z=0.743498401 (AGX)\ncheck_tool",
      "metadata": {
        "trusted": true
      },
      "execution_count": 5,
      "outputs": [
        {
          "name": "stdout",
          "text": "s1..5= 0.999481743041692 -0.670587304004041 6.98000000000000e-9 -0.805543211773116 -6.20000000000000e-9\nc1..5= 0.0321907646125725 0.741830619284882 1.00000000000000 -0.592537031725658 1.00000000000000\n",
          "output_type": "stream"
        },
        {
          "execution_count": 5,
          "output_type": "execute_result",
          "data": {
            "text/plain": "Matrix([\n[0.00323920400607653,   -0.999481743188292, 0.0320273725225944, 0.00717998157330358],\n[  0.100572787540687,   0.0321907600608295,  0.994408803949865,   0.222929267460331],\n[ -0.994924430277849, -1.08492308496709e-8,  0.100624937447419,   0.743463169752088],\n[                  0,                    0,                  0,                   1]])",
            "text/latex": "$\\displaystyle \\left[\\begin{matrix}0.00323920400607653 & -0.999481743188292 & 0.0320273725225944 & 0.00717998157330358\\\\0.100572787540687 & 0.0321907600608295 & 0.994408803949865 & 0.222929267460331\\\\-0.994924430277849 & -1.08492308496709 \\cdot 10^{-8} & 0.100624937447419 & 0.743463169752088\\\\0 & 0 & 0 & 1\\end{matrix}\\right]$"
          },
          "metadata": {}
        }
      ]
    },
    {
      "cell_type": "code",
      "source": "pt\n##### Panda　はここまで #####",
      "metadata": {
        "trusted": true
      },
      "execution_count": 6,
      "outputs": [
        {
          "execution_count": 6,
          "output_type": "execute_result",
          "data": {
            "text/plain": "Matrix([\n[-a*((-sin(theta1)*sin(theta3) + cos(theta1)*cos(theta2)*cos(theta3))*cos(theta4) + sin(theta2)*sin(theta4)*cos(theta1)) + a*(-sin(theta1)*sin(theta3) + cos(theta1)*cos(theta2)*cos(theta3)) + d2*sin(theta2)*cos(theta1) + d3*(-(-sin(theta1)*sin(theta3) + cos(theta1)*cos(theta2)*cos(theta3))*sin(theta4) + sin(theta2)*cos(theta1)*cos(theta4))],\n[   -a*((sin(theta1)*cos(theta2)*cos(theta3) + sin(theta3)*cos(theta1))*cos(theta4) + sin(theta1)*sin(theta2)*sin(theta4)) + a*(sin(theta1)*cos(theta2)*cos(theta3) + sin(theta3)*cos(theta1)) + d2*sin(theta1)*sin(theta2) + d3*(-(sin(theta1)*cos(theta2)*cos(theta3) + sin(theta3)*cos(theta1))*sin(theta4) + sin(theta1)*sin(theta2)*cos(theta4))],\n[                                                                                                                                                          -a*(-sin(theta2)*cos(theta3)*cos(theta4) + sin(theta4)*cos(theta2)) - a*sin(theta2)*cos(theta3) + d1 + d2*cos(theta2) + d3*(sin(theta2)*sin(theta4)*cos(theta3) + cos(theta2)*cos(theta4))]])",
            "text/latex": "$\\displaystyle \\left[\\begin{matrix}- a \\left(\\left(- \\sin{\\left(\\theta_{1} \\right)} \\sin{\\left(\\theta_{3} \\right)} + \\cos{\\left(\\theta_{1} \\right)} \\cos{\\left(\\theta_{2} \\right)} \\cos{\\left(\\theta_{3} \\right)}\\right) \\cos{\\left(\\theta_{4} \\right)} + \\sin{\\left(\\theta_{2} \\right)} \\sin{\\left(\\theta_{4} \\right)} \\cos{\\left(\\theta_{1} \\right)}\\right) + a \\left(- \\sin{\\left(\\theta_{1} \\right)} \\sin{\\left(\\theta_{3} \\right)} + \\cos{\\left(\\theta_{1} \\right)} \\cos{\\left(\\theta_{2} \\right)} \\cos{\\left(\\theta_{3} \\right)}\\right) + d_{2} \\sin{\\left(\\theta_{2} \\right)} \\cos{\\left(\\theta_{1} \\right)} + d_{3} \\left(- \\left(- \\sin{\\left(\\theta_{1} \\right)} \\sin{\\left(\\theta_{3} \\right)} + \\cos{\\left(\\theta_{1} \\right)} \\cos{\\left(\\theta_{2} \\right)} \\cos{\\left(\\theta_{3} \\right)}\\right) \\sin{\\left(\\theta_{4} \\right)} + \\sin{\\left(\\theta_{2} \\right)} \\cos{\\left(\\theta_{1} \\right)} \\cos{\\left(\\theta_{4} \\right)}\\right)\\\\- a \\left(\\left(\\sin{\\left(\\theta_{1} \\right)} \\cos{\\left(\\theta_{2} \\right)} \\cos{\\left(\\theta_{3} \\right)} + \\sin{\\left(\\theta_{3} \\right)} \\cos{\\left(\\theta_{1} \\right)}\\right) \\cos{\\left(\\theta_{4} \\right)} + \\sin{\\left(\\theta_{1} \\right)} \\sin{\\left(\\theta_{2} \\right)} \\sin{\\left(\\theta_{4} \\right)}\\right) + a \\left(\\sin{\\left(\\theta_{1} \\right)} \\cos{\\left(\\theta_{2} \\right)} \\cos{\\left(\\theta_{3} \\right)} + \\sin{\\left(\\theta_{3} \\right)} \\cos{\\left(\\theta_{1} \\right)}\\right) + d_{2} \\sin{\\left(\\theta_{1} \\right)} \\sin{\\left(\\theta_{2} \\right)} + d_{3} \\left(- \\left(\\sin{\\left(\\theta_{1} \\right)} \\cos{\\left(\\theta_{2} \\right)} \\cos{\\left(\\theta_{3} \\right)} + \\sin{\\left(\\theta_{3} \\right)} \\cos{\\left(\\theta_{1} \\right)}\\right) \\sin{\\left(\\theta_{4} \\right)} + \\sin{\\left(\\theta_{1} \\right)} \\sin{\\left(\\theta_{2} \\right)} \\cos{\\left(\\theta_{4} \\right)}\\right)\\\\- a \\left(- \\sin{\\left(\\theta_{2} \\right)} \\cos{\\left(\\theta_{3} \\right)} \\cos{\\left(\\theta_{4} \\right)} + \\sin{\\left(\\theta_{4} \\right)} \\cos{\\left(\\theta_{2} \\right)}\\right) - a \\sin{\\left(\\theta_{2} \\right)} \\cos{\\left(\\theta_{3} \\right)} + d_{1} + d_{2} \\cos{\\left(\\theta_{2} \\right)} + d_{3} \\left(\\sin{\\left(\\theta_{2} \\right)} \\sin{\\left(\\theta_{4} \\right)} \\cos{\\left(\\theta_{3} \\right)} + \\cos{\\left(\\theta_{2} \\right)} \\cos{\\left(\\theta_{4} \\right)}\\right)\\end{matrix}\\right]$"
          },
          "metadata": {}
        }
      ]
    },
    {
      "cell_type": "code",
      "source": "xt, yt, zt = pt\ndisplay(xt)\nprint()\ndisplay(yt)\nprint()\ndisplay(zt)",
      "metadata": {
        "trusted": true
      },
      "execution_count": 7,
      "outputs": [
        {
          "output_type": "display_data",
          "data": {
            "text/plain": "-a*((-sin(theta1)*sin(theta3) + cos(theta1)*cos(theta2)*cos(theta3))*cos(theta4) + sin(theta2)*sin(theta4)*cos(theta1)) + a*(-sin(theta1)*sin(theta3) + cos(theta1)*cos(theta2)*cos(theta3)) + d2*sin(theta2)*cos(theta1) + d3*(-(-sin(theta1)*sin(theta3) + cos(theta1)*cos(theta2)*cos(theta3))*sin(theta4) + sin(theta2)*cos(theta1)*cos(theta4))",
            "text/latex": "$\\displaystyle - a \\left(\\left(- \\sin{\\left(\\theta_{1} \\right)} \\sin{\\left(\\theta_{3} \\right)} + \\cos{\\left(\\theta_{1} \\right)} \\cos{\\left(\\theta_{2} \\right)} \\cos{\\left(\\theta_{3} \\right)}\\right) \\cos{\\left(\\theta_{4} \\right)} + \\sin{\\left(\\theta_{2} \\right)} \\sin{\\left(\\theta_{4} \\right)} \\cos{\\left(\\theta_{1} \\right)}\\right) + a \\left(- \\sin{\\left(\\theta_{1} \\right)} \\sin{\\left(\\theta_{3} \\right)} + \\cos{\\left(\\theta_{1} \\right)} \\cos{\\left(\\theta_{2} \\right)} \\cos{\\left(\\theta_{3} \\right)}\\right) + d_{2} \\sin{\\left(\\theta_{2} \\right)} \\cos{\\left(\\theta_{1} \\right)} + d_{3} \\left(- \\left(- \\sin{\\left(\\theta_{1} \\right)} \\sin{\\left(\\theta_{3} \\right)} + \\cos{\\left(\\theta_{1} \\right)} \\cos{\\left(\\theta_{2} \\right)} \\cos{\\left(\\theta_{3} \\right)}\\right) \\sin{\\left(\\theta_{4} \\right)} + \\sin{\\left(\\theta_{2} \\right)} \\cos{\\left(\\theta_{1} \\right)} \\cos{\\left(\\theta_{4} \\right)}\\right)$"
          },
          "metadata": {}
        },
        {
          "name": "stdout",
          "text": "\n",
          "output_type": "stream"
        },
        {
          "output_type": "display_data",
          "data": {
            "text/plain": "-a*((sin(theta1)*cos(theta2)*cos(theta3) + sin(theta3)*cos(theta1))*cos(theta4) + sin(theta1)*sin(theta2)*sin(theta4)) + a*(sin(theta1)*cos(theta2)*cos(theta3) + sin(theta3)*cos(theta1)) + d2*sin(theta1)*sin(theta2) + d3*(-(sin(theta1)*cos(theta2)*cos(theta3) + sin(theta3)*cos(theta1))*sin(theta4) + sin(theta1)*sin(theta2)*cos(theta4))",
            "text/latex": "$\\displaystyle - a \\left(\\left(\\sin{\\left(\\theta_{1} \\right)} \\cos{\\left(\\theta_{2} \\right)} \\cos{\\left(\\theta_{3} \\right)} + \\sin{\\left(\\theta_{3} \\right)} \\cos{\\left(\\theta_{1} \\right)}\\right) \\cos{\\left(\\theta_{4} \\right)} + \\sin{\\left(\\theta_{1} \\right)} \\sin{\\left(\\theta_{2} \\right)} \\sin{\\left(\\theta_{4} \\right)}\\right) + a \\left(\\sin{\\left(\\theta_{1} \\right)} \\cos{\\left(\\theta_{2} \\right)} \\cos{\\left(\\theta_{3} \\right)} + \\sin{\\left(\\theta_{3} \\right)} \\cos{\\left(\\theta_{1} \\right)}\\right) + d_{2} \\sin{\\left(\\theta_{1} \\right)} \\sin{\\left(\\theta_{2} \\right)} + d_{3} \\left(- \\left(\\sin{\\left(\\theta_{1} \\right)} \\cos{\\left(\\theta_{2} \\right)} \\cos{\\left(\\theta_{3} \\right)} + \\sin{\\left(\\theta_{3} \\right)} \\cos{\\left(\\theta_{1} \\right)}\\right) \\sin{\\left(\\theta_{4} \\right)} + \\sin{\\left(\\theta_{1} \\right)} \\sin{\\left(\\theta_{2} \\right)} \\cos{\\left(\\theta_{4} \\right)}\\right)$"
          },
          "metadata": {}
        },
        {
          "name": "stdout",
          "text": "\n",
          "output_type": "stream"
        },
        {
          "output_type": "display_data",
          "data": {
            "text/plain": "-a*(-sin(theta2)*cos(theta3)*cos(theta4) + sin(theta4)*cos(theta2)) - a*sin(theta2)*cos(theta3) + d1 + d2*cos(theta2) + d3*(sin(theta2)*sin(theta4)*cos(theta3) + cos(theta2)*cos(theta4))",
            "text/latex": "$\\displaystyle - a \\left(- \\sin{\\left(\\theta_{2} \\right)} \\cos{\\left(\\theta_{3} \\right)} \\cos{\\left(\\theta_{4} \\right)} + \\sin{\\left(\\theta_{4} \\right)} \\cos{\\left(\\theta_{2} \\right)}\\right) - a \\sin{\\left(\\theta_{2} \\right)} \\cos{\\left(\\theta_{3} \\right)} + d_{1} + d_{2} \\cos{\\left(\\theta_{2} \\right)} + d_{3} \\left(\\sin{\\left(\\theta_{2} \\right)} \\sin{\\left(\\theta_{4} \\right)} \\cos{\\left(\\theta_{3} \\right)} + \\cos{\\left(\\theta_{2} \\right)} \\cos{\\left(\\theta_{4} \\right)}\\right)$"
          },
          "metadata": {}
        }
      ]
    },
    {
      "cell_type": "code",
      "source": "dxt2 = xt.diff(theta2).simplify()\ndxt3 = xt.diff(theta3).simplify()\ndxt4 = xt.diff(theta4).simplify()\ndxt5 = xt.diff(theta5).simplify()\ndisplay(dxt2)\nprint()\ndisplay(dxt3)\nprint()\ndisplay(dxt4)\nprint()\ndisplay(dxt5)",
      "metadata": {
        "trusted": true
      },
      "execution_count": 8,
      "outputs": [
        {
          "output_type": "display_data",
          "data": {
            "text/plain": "(a*(sin(theta2)*cos(theta3)*cos(theta4) - sin(theta4)*cos(theta2)) - a*sin(theta2)*cos(theta3) + d2*cos(theta2) + d3*(sin(theta2)*sin(theta4)*cos(theta3) + cos(theta2)*cos(theta4)))*cos(theta1)",
            "text/latex": "$\\displaystyle \\left(a \\left(\\sin{\\left(\\theta_{2} \\right)} \\cos{\\left(\\theta_{3} \\right)} \\cos{\\left(\\theta_{4} \\right)} - \\sin{\\left(\\theta_{4} \\right)} \\cos{\\left(\\theta_{2} \\right)}\\right) - a \\sin{\\left(\\theta_{2} \\right)} \\cos{\\left(\\theta_{3} \\right)} + d_{2} \\cos{\\left(\\theta_{2} \\right)} + d_{3} \\left(\\sin{\\left(\\theta_{2} \\right)} \\sin{\\left(\\theta_{4} \\right)} \\cos{\\left(\\theta_{3} \\right)} + \\cos{\\left(\\theta_{2} \\right)} \\cos{\\left(\\theta_{4} \\right)}\\right)\\right) \\cos{\\left(\\theta_{1} \\right)}$"
          },
          "metadata": {}
        },
        {
          "name": "stdout",
          "text": "\n",
          "output_type": "stream"
        },
        {
          "output_type": "display_data",
          "data": {
            "text/plain": "(sin(theta1)*cos(theta3) + sin(theta3)*cos(theta1)*cos(theta2))*(a*cos(theta4) - a + d3*sin(theta4))",
            "text/latex": "$\\displaystyle \\left(\\sin{\\left(\\theta_{1} \\right)} \\cos{\\left(\\theta_{3} \\right)} + \\sin{\\left(\\theta_{3} \\right)} \\cos{\\left(\\theta_{1} \\right)} \\cos{\\left(\\theta_{2} \\right)}\\right) \\left(a \\cos{\\left(\\theta_{4} \\right)} - a + d_{3} \\sin{\\left(\\theta_{4} \\right)}\\right)$"
          },
          "metadata": {}
        },
        {
          "name": "stdout",
          "text": "\n",
          "output_type": "stream"
        },
        {
          "output_type": "display_data",
          "data": {
            "text/plain": "-a*((sin(theta1)*sin(theta3) - cos(theta1)*cos(theta2)*cos(theta3))*sin(theta4) + sin(theta2)*cos(theta1)*cos(theta4)) + d3*((sin(theta1)*sin(theta3) - cos(theta1)*cos(theta2)*cos(theta3))*cos(theta4) - sin(theta2)*sin(theta4)*cos(theta1))",
            "text/latex": "$\\displaystyle - a \\left(\\left(\\sin{\\left(\\theta_{1} \\right)} \\sin{\\left(\\theta_{3} \\right)} - \\cos{\\left(\\theta_{1} \\right)} \\cos{\\left(\\theta_{2} \\right)} \\cos{\\left(\\theta_{3} \\right)}\\right) \\sin{\\left(\\theta_{4} \\right)} + \\sin{\\left(\\theta_{2} \\right)} \\cos{\\left(\\theta_{1} \\right)} \\cos{\\left(\\theta_{4} \\right)}\\right) + d_{3} \\left(\\left(\\sin{\\left(\\theta_{1} \\right)} \\sin{\\left(\\theta_{3} \\right)} - \\cos{\\left(\\theta_{1} \\right)} \\cos{\\left(\\theta_{2} \\right)} \\cos{\\left(\\theta_{3} \\right)}\\right) \\cos{\\left(\\theta_{4} \\right)} - \\sin{\\left(\\theta_{2} \\right)} \\sin{\\left(\\theta_{4} \\right)} \\cos{\\left(\\theta_{1} \\right)}\\right)$"
          },
          "metadata": {}
        },
        {
          "name": "stdout",
          "text": "\n",
          "output_type": "stream"
        },
        {
          "output_type": "display_data",
          "data": {
            "text/plain": "0",
            "text/latex": "$\\displaystyle 0$"
          },
          "metadata": {}
        }
      ]
    },
    {
      "cell_type": "code",
      "source": "dyt2 = yt.diff(theta2).simplify()\ndyt3 = yt.diff(theta3).simplify()\ndyt4 = yt.diff(theta4).simplify()\ndyt5 = yt.diff(theta5).simplify()\ndisplay(dyt2)\nprint()\ndisplay(dyt3)\nprint()\ndisplay(dyt4)\nprint()\ndisplay(dyt5)",
      "metadata": {
        "trusted": true
      },
      "execution_count": 9,
      "outputs": [
        {
          "output_type": "display_data",
          "data": {
            "text/plain": "(a*(sin(theta2)*cos(theta3)*cos(theta4) - sin(theta4)*cos(theta2)) - a*sin(theta2)*cos(theta3) + d2*cos(theta2) + d3*(sin(theta2)*sin(theta4)*cos(theta3) + cos(theta2)*cos(theta4)))*sin(theta1)",
            "text/latex": "$\\displaystyle \\left(a \\left(\\sin{\\left(\\theta_{2} \\right)} \\cos{\\left(\\theta_{3} \\right)} \\cos{\\left(\\theta_{4} \\right)} - \\sin{\\left(\\theta_{4} \\right)} \\cos{\\left(\\theta_{2} \\right)}\\right) - a \\sin{\\left(\\theta_{2} \\right)} \\cos{\\left(\\theta_{3} \\right)} + d_{2} \\cos{\\left(\\theta_{2} \\right)} + d_{3} \\left(\\sin{\\left(\\theta_{2} \\right)} \\sin{\\left(\\theta_{4} \\right)} \\cos{\\left(\\theta_{3} \\right)} + \\cos{\\left(\\theta_{2} \\right)} \\cos{\\left(\\theta_{4} \\right)}\\right)\\right) \\sin{\\left(\\theta_{1} \\right)}$"
          },
          "metadata": {}
        },
        {
          "name": "stdout",
          "text": "\n",
          "output_type": "stream"
        },
        {
          "output_type": "display_data",
          "data": {
            "text/plain": "(sin(theta1)*sin(theta3)*cos(theta2) - cos(theta1)*cos(theta3))*(a*cos(theta4) - a + d3*sin(theta4))",
            "text/latex": "$\\displaystyle \\left(\\sin{\\left(\\theta_{1} \\right)} \\sin{\\left(\\theta_{3} \\right)} \\cos{\\left(\\theta_{2} \\right)} - \\cos{\\left(\\theta_{1} \\right)} \\cos{\\left(\\theta_{3} \\right)}\\right) \\left(a \\cos{\\left(\\theta_{4} \\right)} - a + d_{3} \\sin{\\left(\\theta_{4} \\right)}\\right)$"
          },
          "metadata": {}
        },
        {
          "name": "stdout",
          "text": "\n",
          "output_type": "stream"
        },
        {
          "output_type": "display_data",
          "data": {
            "text/plain": "a*((sin(theta1)*cos(theta2)*cos(theta3) + sin(theta3)*cos(theta1))*sin(theta4) - sin(theta1)*sin(theta2)*cos(theta4)) - d3*((sin(theta1)*cos(theta2)*cos(theta3) + sin(theta3)*cos(theta1))*cos(theta4) + sin(theta1)*sin(theta2)*sin(theta4))",
            "text/latex": "$\\displaystyle a \\left(\\left(\\sin{\\left(\\theta_{1} \\right)} \\cos{\\left(\\theta_{2} \\right)} \\cos{\\left(\\theta_{3} \\right)} + \\sin{\\left(\\theta_{3} \\right)} \\cos{\\left(\\theta_{1} \\right)}\\right) \\sin{\\left(\\theta_{4} \\right)} - \\sin{\\left(\\theta_{1} \\right)} \\sin{\\left(\\theta_{2} \\right)} \\cos{\\left(\\theta_{4} \\right)}\\right) - d_{3} \\left(\\left(\\sin{\\left(\\theta_{1} \\right)} \\cos{\\left(\\theta_{2} \\right)} \\cos{\\left(\\theta_{3} \\right)} + \\sin{\\left(\\theta_{3} \\right)} \\cos{\\left(\\theta_{1} \\right)}\\right) \\cos{\\left(\\theta_{4} \\right)} + \\sin{\\left(\\theta_{1} \\right)} \\sin{\\left(\\theta_{2} \\right)} \\sin{\\left(\\theta_{4} \\right)}\\right)$"
          },
          "metadata": {}
        },
        {
          "name": "stdout",
          "text": "\n",
          "output_type": "stream"
        },
        {
          "output_type": "display_data",
          "data": {
            "text/plain": "0",
            "text/latex": "$\\displaystyle 0$"
          },
          "metadata": {}
        }
      ]
    },
    {
      "cell_type": "code",
      "source": "dzt2 = zt.diff(theta2).simplify()\ndzt3 = zt.diff(theta3).simplify()\ndzt4 = zt.diff(theta4).simplify()\ndisplay(dzt2)\nprint()\ndisplay(dzt3)\nprint()\ndisplay(dzt4)",
      "metadata": {
        "trusted": true
      },
      "execution_count": 10,
      "outputs": [
        {
          "output_type": "display_data",
          "data": {
            "text/plain": "a*(sin(theta2)*sin(theta4) + cos(theta2)*cos(theta3)*cos(theta4)) - a*cos(theta2)*cos(theta3) - d2*sin(theta2) - d3*(sin(theta2)*cos(theta4) - sin(theta4)*cos(theta2)*cos(theta3))",
            "text/latex": "$\\displaystyle a \\left(\\sin{\\left(\\theta_{2} \\right)} \\sin{\\left(\\theta_{4} \\right)} + \\cos{\\left(\\theta_{2} \\right)} \\cos{\\left(\\theta_{3} \\right)} \\cos{\\left(\\theta_{4} \\right)}\\right) - a \\cos{\\left(\\theta_{2} \\right)} \\cos{\\left(\\theta_{3} \\right)} - d_{2} \\sin{\\left(\\theta_{2} \\right)} - d_{3} \\left(\\sin{\\left(\\theta_{2} \\right)} \\cos{\\left(\\theta_{4} \\right)} - \\sin{\\left(\\theta_{4} \\right)} \\cos{\\left(\\theta_{2} \\right)} \\cos{\\left(\\theta_{3} \\right)}\\right)$"
          },
          "metadata": {}
        },
        {
          "name": "stdout",
          "text": "\n",
          "output_type": "stream"
        },
        {
          "output_type": "display_data",
          "data": {
            "text/plain": "(-a*cos(theta4) + a - d3*sin(theta4))*sin(theta2)*sin(theta3)",
            "text/latex": "$\\displaystyle \\left(- a \\cos{\\left(\\theta_{4} \\right)} + a - d_{3} \\sin{\\left(\\theta_{4} \\right)}\\right) \\sin{\\left(\\theta_{2} \\right)} \\sin{\\left(\\theta_{3} \\right)}$"
          },
          "metadata": {}
        },
        {
          "name": "stdout",
          "text": "\n",
          "output_type": "stream"
        },
        {
          "output_type": "display_data",
          "data": {
            "text/plain": "-a*(sin(theta2)*sin(theta4)*cos(theta3) + cos(theta2)*cos(theta4)) + d3*(sin(theta2)*cos(theta3)*cos(theta4) - sin(theta4)*cos(theta2))",
            "text/latex": "$\\displaystyle - a \\left(\\sin{\\left(\\theta_{2} \\right)} \\sin{\\left(\\theta_{4} \\right)} \\cos{\\left(\\theta_{3} \\right)} + \\cos{\\left(\\theta_{2} \\right)} \\cos{\\left(\\theta_{4} \\right)}\\right) + d_{3} \\left(\\sin{\\left(\\theta_{2} \\right)} \\cos{\\left(\\theta_{3} \\right)} \\cos{\\left(\\theta_{4} \\right)} - \\sin{\\left(\\theta_{4} \\right)} \\cos{\\left(\\theta_{2} \\right)}\\right)$"
          },
          "metadata": {}
        }
      ]
    },
    {
      "cell_type": "code",
      "source": "dX2 = dxt2.subs(param)\ndX3 = dxt3.subs(param)\ndX4 = dxt4.subs(param)\ndY2 = dyt2.subs(param)\ndY3 = dyt3.subs(param)\ndY4 = dyt4.subs(param)\ndZ2 = dzt2.subs(param)\ndZ3 = dzt3.subs(param)\ndZ4 = dzt4.subs(param)\nprint(f'dp2 = ({dX2}, {dY2}, {dZ2})')\nprint(f'dp3 = ({dX3}, {dY3}, {dZ3})')\nprint(f'dp4 = ({dX4}, {dY4}, {dZ4})')",
      "metadata": {
        "trusted": true
      },
      "execution_count": 11,
      "outputs": [
        {
          "name": "stdout",
          "text": "dp2 = (0.0132131232796198, 0.410250444358234, -0.223044861913008)\ndp3 = (-0.440484495985471, 0.0141868828945311, -2.06284459133649E-9)\ndp4 = (-0.00388611019188129, -0.120658676818128, 0.373749423887282)\n",
          "output_type": "stream"
        }
      ]
    },
    {
      "cell_type": "code",
      "source": "",
      "metadata": {},
      "execution_count": null,
      "outputs": []
    }
  ]
}